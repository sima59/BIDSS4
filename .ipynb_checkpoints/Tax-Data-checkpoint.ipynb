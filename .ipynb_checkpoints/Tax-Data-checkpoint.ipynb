{
 "cells": [
  {
   "cell_type": "code",
   "execution_count": 1,
   "id": "a5c527c4-5ef7-4c45-a7ae-2603205b3a0c",
   "metadata": {},
   "outputs": [],
   "source": [
    "# I tried to connect to TaxOffice database on phpMyAdmin database but couldn't. \n",
    "#I watched VPS video and changed setting to let outside accsees to database but still said couldn't find database\n",
    "import matplotlib.pyplot as plt\n",
    "import pandas as pd\n",
    "import numpy as np\n",
    "dt='C:\\\\Users\\\\LG\\\\Desktop\\SUMMER1\\\\Real_Property_Tax_-_2020.csv'\n",
    "data=pd.read_csv(dt)\n"
   ]
  },
  {
   "cell_type": "code",
   "execution_count": 2,
   "id": "c5e3842e-1f45-40db-9961-f25bab430621",
   "metadata": {},
   "outputs": [
    {
     "name": "stdout",
     "output_type": "stream",
     "text": [
      "           CODE                  RESIDENCE           CITY  ZIP CODE    Value  \\\n",
      "0         45986  NOT A PRINCIPAL RESIDENCE            NaN       NaN        0   \n",
      "1        150491  NOT A PRINCIPAL RESIDENCE            NaN       NaN        0   \n",
      "2       1624601  NOT A PRINCIPAL RESIDENCE            NaN       NaN        0   \n",
      "3        308418  NOT A PRINCIPAL RESIDENCE            NaN       NaN    20100   \n",
      "4        311347  NOT A PRINCIPAL RESIDENCE            NaN       NaN   236900   \n",
      "...         ...                        ...            ...       ...      ...   \n",
      "343908  3811057        PRINCIPAL RESIDENCE       BETHESDA   20814.0    40000   \n",
      "343909  3815580  NOT A PRINCIPAL RESIDENCE  SILVER SPRING   20910.0  5363000   \n",
      "343910  3835645  NOT A PRINCIPAL RESIDENCE            NaN       NaN        0   \n",
      "343911  3806530  NOT A PRINCIPAL RESIDENCE  SILVER SPRING   20910.0        0   \n",
      "343912  3826388  NOT A PRINCIPAL RESIDENCE            NaN       NaN   151200   \n",
      "\n",
      "         TAX-Due  WASTE-CHARGE  STATETAX     TOTAL  CREDITS   TOTAL-DUE  \n",
      "0           0.00          0.00      0.00      0.00     0.00        0.00  \n",
      "1           0.00          0.00      0.00      0.00     0.00        0.00  \n",
      "2           0.00          0.00      0.00      0.00     0.00        0.00  \n",
      "3         199.23          0.00     22.51    221.74   199.23       22.51  \n",
      "4        2348.15          0.00    265.33   2613.48     0.00     2613.48  \n",
      "...          ...           ...       ...       ...      ...         ...  \n",
      "343908    401.28          0.00     44.80    448.87     0.00      448.87  \n",
      "343909  54445.18          0.00   6006.56  60994.89     0.00    60994.89  \n",
      "343910      0.00          0.00      0.00      0.00     0.00        0.00  \n",
      "343911      0.00         16.25      0.00     21.15     0.00       21.15  \n",
      "343912   1342.05          0.00    169.34   1952.89     0.00     1952.89  \n",
      "\n",
      "[343913 rows x 11 columns]\n"
     ]
    }
   ],
   "source": [
    "print(data)\n"
   ]
  },
  {
   "cell_type": "code",
   "execution_count": 3,
   "id": "c9b7fbd1-5a1b-4cf8-91fa-5026f9d74ef1",
   "metadata": {},
   "outputs": [
    {
     "data": {
      "text/html": [
       "<div>\n",
       "<style scoped>\n",
       "    .dataframe tbody tr th:only-of-type {\n",
       "        vertical-align: middle;\n",
       "    }\n",
       "\n",
       "    .dataframe tbody tr th {\n",
       "        vertical-align: top;\n",
       "    }\n",
       "\n",
       "    .dataframe thead th {\n",
       "        text-align: right;\n",
       "    }\n",
       "</style>\n",
       "<table border=\"1\" class=\"dataframe\">\n",
       "  <thead>\n",
       "    <tr style=\"text-align: right;\">\n",
       "      <th></th>\n",
       "      <th>CODE</th>\n",
       "      <th>ZIP CODE</th>\n",
       "      <th>Value</th>\n",
       "      <th>TAX-Due</th>\n",
       "      <th>WASTE-CHARGE</th>\n",
       "      <th>STATETAX</th>\n",
       "      <th>TOTAL</th>\n",
       "      <th>CREDITS</th>\n",
       "      <th>TOTAL-DUE</th>\n",
       "    </tr>\n",
       "  </thead>\n",
       "  <tbody>\n",
       "    <tr>\n",
       "      <th>count</th>\n",
       "      <td>3.439130e+05</td>\n",
       "      <td>324125.000000</td>\n",
       "      <td>3.439130e+05</td>\n",
       "      <td>3.439130e+05</td>\n",
       "      <td>343913.000000</td>\n",
       "      <td>343913.000000</td>\n",
       "      <td>3.439130e+05</td>\n",
       "      <td>3.439130e+05</td>\n",
       "      <td>3.439130e+05</td>\n",
       "    </tr>\n",
       "    <tr>\n",
       "      <th>mean</th>\n",
       "      <td>1.937785e+06</td>\n",
       "      <td>20868.652890</td>\n",
       "      <td>5.811394e+05</td>\n",
       "      <td>5.675616e+03</td>\n",
       "      <td>264.230656</td>\n",
       "      <td>649.614523</td>\n",
       "      <td>7.049641e+03</td>\n",
       "      <td>5.824979e+02</td>\n",
       "      <td>6.467143e+03</td>\n",
       "    </tr>\n",
       "    <tr>\n",
       "      <th>std</th>\n",
       "      <td>1.109963e+06</td>\n",
       "      <td>62.088914</td>\n",
       "      <td>2.814134e+06</td>\n",
       "      <td>2.756035e+04</td>\n",
       "      <td>1086.661151</td>\n",
       "      <td>3151.949184</td>\n",
       "      <td>3.334316e+04</td>\n",
       "      <td>4.018380e+03</td>\n",
       "      <td>3.284644e+04</td>\n",
       "    </tr>\n",
       "    <tr>\n",
       "      <th>min</th>\n",
       "      <td>1.100000e+01</td>\n",
       "      <td>12040.000000</td>\n",
       "      <td>0.000000e+00</td>\n",
       "      <td>0.000000e+00</td>\n",
       "      <td>0.000000</td>\n",
       "      <td>0.000000</td>\n",
       "      <td>0.000000e+00</td>\n",
       "      <td>0.000000e+00</td>\n",
       "      <td>0.000000e+00</td>\n",
       "    </tr>\n",
       "    <tr>\n",
       "      <th>25%</th>\n",
       "      <td>9.964400e+05</td>\n",
       "      <td>20851.000000</td>\n",
       "      <td>2.500000e+05</td>\n",
       "      <td>2.418860e+03</td>\n",
       "      <td>31.190000</td>\n",
       "      <td>278.990000</td>\n",
       "      <td>3.010630e+03</td>\n",
       "      <td>0.000000e+00</td>\n",
       "      <td>2.474410e+03</td>\n",
       "    </tr>\n",
       "    <tr>\n",
       "      <th>50%</th>\n",
       "      <td>1.929071e+06</td>\n",
       "      <td>20874.000000</td>\n",
       "      <td>3.868000e+05</td>\n",
       "      <td>3.784410e+03</td>\n",
       "      <td>222.860000</td>\n",
       "      <td>432.320000</td>\n",
       "      <td>4.754230e+03</td>\n",
       "      <td>6.920000e+02</td>\n",
       "      <td>4.133630e+03</td>\n",
       "    </tr>\n",
       "    <tr>\n",
       "      <th>75%</th>\n",
       "      <td>2.906532e+06</td>\n",
       "      <td>20901.000000</td>\n",
       "      <td>5.994000e+05</td>\n",
       "      <td>5.827260e+03</td>\n",
       "      <td>329.860000</td>\n",
       "      <td>670.540000</td>\n",
       "      <td>7.353140e+03</td>\n",
       "      <td>6.920000e+02</td>\n",
       "      <td>6.711060e+03</td>\n",
       "    </tr>\n",
       "    <tr>\n",
       "      <th>max</th>\n",
       "      <td>3.848226e+06</td>\n",
       "      <td>37215.000000</td>\n",
       "      <td>4.876059e+08</td>\n",
       "      <td>4.833150e+06</td>\n",
       "      <td>277605.200000</td>\n",
       "      <td>546118.640000</td>\n",
       "      <td>5.549401e+06</td>\n",
       "      <td>1.442502e+06</td>\n",
       "      <td>5.549401e+06</td>\n",
       "    </tr>\n",
       "  </tbody>\n",
       "</table>\n",
       "</div>"
      ],
      "text/plain": [
       "               CODE       ZIP CODE         Value       TAX-Due   WASTE-CHARGE  \\\n",
       "count  3.439130e+05  324125.000000  3.439130e+05  3.439130e+05  343913.000000   \n",
       "mean   1.937785e+06   20868.652890  5.811394e+05  5.675616e+03     264.230656   \n",
       "std    1.109963e+06      62.088914  2.814134e+06  2.756035e+04    1086.661151   \n",
       "min    1.100000e+01   12040.000000  0.000000e+00  0.000000e+00       0.000000   \n",
       "25%    9.964400e+05   20851.000000  2.500000e+05  2.418860e+03      31.190000   \n",
       "50%    1.929071e+06   20874.000000  3.868000e+05  3.784410e+03     222.860000   \n",
       "75%    2.906532e+06   20901.000000  5.994000e+05  5.827260e+03     329.860000   \n",
       "max    3.848226e+06   37215.000000  4.876059e+08  4.833150e+06  277605.200000   \n",
       "\n",
       "            STATETAX         TOTAL       CREDITS     TOTAL-DUE  \n",
       "count  343913.000000  3.439130e+05  3.439130e+05  3.439130e+05  \n",
       "mean      649.614523  7.049641e+03  5.824979e+02  6.467143e+03  \n",
       "std      3151.949184  3.334316e+04  4.018380e+03  3.284644e+04  \n",
       "min         0.000000  0.000000e+00  0.000000e+00  0.000000e+00  \n",
       "25%       278.990000  3.010630e+03  0.000000e+00  2.474410e+03  \n",
       "50%       432.320000  4.754230e+03  6.920000e+02  4.133630e+03  \n",
       "75%       670.540000  7.353140e+03  6.920000e+02  6.711060e+03  \n",
       "max    546118.640000  5.549401e+06  1.442502e+06  5.549401e+06  "
      ]
     },
     "execution_count": 3,
     "metadata": {},
     "output_type": "execute_result"
    }
   ],
   "source": [
    "data.describe()\n"
   ]
  },
  {
   "cell_type": "code",
   "execution_count": 4,
   "id": "5d909b86-8690-4bb6-bba6-1e997c4392a9",
   "metadata": {},
   "outputs": [],
   "source": [
    "dt='C:\\\\Users\\\\LG\\\\Desktop\\SUMMER1\\\\Real_Property_Tax_-_2020.csv'\n",
    "data=pd.read_csv(dt)\n"
   ]
  },
  {
   "cell_type": "code",
   "execution_count": 5,
   "id": "92b4697e-2c9c-4dc9-8a87-4362eb101ca7",
   "metadata": {},
   "outputs": [
    {
     "data": {
      "text/html": [
       "<div>\n",
       "<style scoped>\n",
       "    .dataframe tbody tr th:only-of-type {\n",
       "        vertical-align: middle;\n",
       "    }\n",
       "\n",
       "    .dataframe tbody tr th {\n",
       "        vertical-align: top;\n",
       "    }\n",
       "\n",
       "    .dataframe thead th {\n",
       "        text-align: right;\n",
       "    }\n",
       "</style>\n",
       "<table border=\"1\" class=\"dataframe\">\n",
       "  <thead>\n",
       "    <tr style=\"text-align: right;\">\n",
       "      <th></th>\n",
       "      <th>CODE</th>\n",
       "      <th>ZIP CODE</th>\n",
       "      <th>Value</th>\n",
       "      <th>TAX-Due</th>\n",
       "      <th>WASTE-CHARGE</th>\n",
       "      <th>STATETAX</th>\n",
       "      <th>TOTAL</th>\n",
       "      <th>CREDITS</th>\n",
       "      <th>DUE</th>\n",
       "    </tr>\n",
       "  </thead>\n",
       "  <tbody>\n",
       "    <tr>\n",
       "      <th>count</th>\n",
       "      <td>3.439130e+05</td>\n",
       "      <td>324125.000000</td>\n",
       "      <td>3.439130e+05</td>\n",
       "      <td>3.439130e+05</td>\n",
       "      <td>343913.000000</td>\n",
       "      <td>343913.000000</td>\n",
       "      <td>3.439130e+05</td>\n",
       "      <td>3.439130e+05</td>\n",
       "      <td>3.439130e+05</td>\n",
       "    </tr>\n",
       "    <tr>\n",
       "      <th>mean</th>\n",
       "      <td>1.937785e+06</td>\n",
       "      <td>20868.652890</td>\n",
       "      <td>5.811394e+05</td>\n",
       "      <td>5.675616e+03</td>\n",
       "      <td>264.230656</td>\n",
       "      <td>649.614523</td>\n",
       "      <td>7.049641e+03</td>\n",
       "      <td>5.824979e+02</td>\n",
       "      <td>6.467143e+03</td>\n",
       "    </tr>\n",
       "    <tr>\n",
       "      <th>std</th>\n",
       "      <td>1.109963e+06</td>\n",
       "      <td>62.088914</td>\n",
       "      <td>2.814134e+06</td>\n",
       "      <td>2.756035e+04</td>\n",
       "      <td>1086.661151</td>\n",
       "      <td>3151.949184</td>\n",
       "      <td>3.334316e+04</td>\n",
       "      <td>4.018380e+03</td>\n",
       "      <td>3.284644e+04</td>\n",
       "    </tr>\n",
       "    <tr>\n",
       "      <th>min</th>\n",
       "      <td>1.100000e+01</td>\n",
       "      <td>12040.000000</td>\n",
       "      <td>0.000000e+00</td>\n",
       "      <td>0.000000e+00</td>\n",
       "      <td>0.000000</td>\n",
       "      <td>0.000000</td>\n",
       "      <td>0.000000e+00</td>\n",
       "      <td>0.000000e+00</td>\n",
       "      <td>0.000000e+00</td>\n",
       "    </tr>\n",
       "    <tr>\n",
       "      <th>25%</th>\n",
       "      <td>9.964400e+05</td>\n",
       "      <td>20851.000000</td>\n",
       "      <td>2.500000e+05</td>\n",
       "      <td>2.418860e+03</td>\n",
       "      <td>31.190000</td>\n",
       "      <td>278.990000</td>\n",
       "      <td>3.010630e+03</td>\n",
       "      <td>0.000000e+00</td>\n",
       "      <td>2.474410e+03</td>\n",
       "    </tr>\n",
       "    <tr>\n",
       "      <th>50%</th>\n",
       "      <td>1.929071e+06</td>\n",
       "      <td>20874.000000</td>\n",
       "      <td>3.868000e+05</td>\n",
       "      <td>3.784410e+03</td>\n",
       "      <td>222.860000</td>\n",
       "      <td>432.320000</td>\n",
       "      <td>4.754230e+03</td>\n",
       "      <td>6.920000e+02</td>\n",
       "      <td>4.133630e+03</td>\n",
       "    </tr>\n",
       "    <tr>\n",
       "      <th>75%</th>\n",
       "      <td>2.906532e+06</td>\n",
       "      <td>20901.000000</td>\n",
       "      <td>5.994000e+05</td>\n",
       "      <td>5.827260e+03</td>\n",
       "      <td>329.860000</td>\n",
       "      <td>670.540000</td>\n",
       "      <td>7.353140e+03</td>\n",
       "      <td>6.920000e+02</td>\n",
       "      <td>6.711060e+03</td>\n",
       "    </tr>\n",
       "    <tr>\n",
       "      <th>max</th>\n",
       "      <td>3.848226e+06</td>\n",
       "      <td>37215.000000</td>\n",
       "      <td>4.876059e+08</td>\n",
       "      <td>4.833150e+06</td>\n",
       "      <td>277605.200000</td>\n",
       "      <td>546118.640000</td>\n",
       "      <td>5.549401e+06</td>\n",
       "      <td>1.442502e+06</td>\n",
       "      <td>5.549401e+06</td>\n",
       "    </tr>\n",
       "  </tbody>\n",
       "</table>\n",
       "</div>"
      ],
      "text/plain": [
       "               CODE       ZIP CODE         Value       TAX-Due   WASTE-CHARGE  \\\n",
       "count  3.439130e+05  324125.000000  3.439130e+05  3.439130e+05  343913.000000   \n",
       "mean   1.937785e+06   20868.652890  5.811394e+05  5.675616e+03     264.230656   \n",
       "std    1.109963e+06      62.088914  2.814134e+06  2.756035e+04    1086.661151   \n",
       "min    1.100000e+01   12040.000000  0.000000e+00  0.000000e+00       0.000000   \n",
       "25%    9.964400e+05   20851.000000  2.500000e+05  2.418860e+03      31.190000   \n",
       "50%    1.929071e+06   20874.000000  3.868000e+05  3.784410e+03     222.860000   \n",
       "75%    2.906532e+06   20901.000000  5.994000e+05  5.827260e+03     329.860000   \n",
       "max    3.848226e+06   37215.000000  4.876059e+08  4.833150e+06  277605.200000   \n",
       "\n",
       "            STATETAX         TOTAL       CREDITS           DUE  \n",
       "count  343913.000000  3.439130e+05  3.439130e+05  3.439130e+05  \n",
       "mean      649.614523  7.049641e+03  5.824979e+02  6.467143e+03  \n",
       "std      3151.949184  3.334316e+04  4.018380e+03  3.284644e+04  \n",
       "min         0.000000  0.000000e+00  0.000000e+00  0.000000e+00  \n",
       "25%       278.990000  3.010630e+03  0.000000e+00  2.474410e+03  \n",
       "50%       432.320000  4.754230e+03  6.920000e+02  4.133630e+03  \n",
       "75%       670.540000  7.353140e+03  6.920000e+02  6.711060e+03  \n",
       "max    546118.640000  5.549401e+06  1.442502e+06  5.549401e+06  "
      ]
     },
     "execution_count": 5,
     "metadata": {},
     "output_type": "execute_result"
    }
   ],
   "source": [
    "data.describe()\n"
   ]
  },
  {
   "cell_type": "code",
   "execution_count": 6,
   "id": "14646561-9760-42d7-9a41-2356825619bc",
   "metadata": {},
   "outputs": [
    {
     "data": {
      "text/plain": [
       "Text(0, 0.5, 'Total Tax ')"
      ]
     },
     "execution_count": 6,
     "metadata": {},
     "output_type": "execute_result"
    },
    {
     "data": {
      "image/png": "[encoded data removed]",
      "text/plain": [
       "<Figure size 432x288 with 1 Axes>"
      ]
     },
     "metadata": {
      "needs_background": "light"
     },
     "output_type": "display_data"
    }
   ],
   "source": [
    "#How much is the TOTAL Tax Of each zip code of the GERMANTOWN City?\n",
    "plot_data=data[data['CITY']=='GERMANTOWN']\n",
    "plot_data=plot_data.groupby('ZIP CODE')['TOTAL'].sum()\n",
    "plot_data.plot(kind='bar')\n",
    "plt.title(\"Total tax of each zip code\")\n",
    "plt.ylabel(\"Total Tax \")"
   ]
  },
  {
   "cell_type": "code",
   "execution_count": 8,
   "id": "8203ab21-46c7-4735-934f-9789fd6d9c9a",
   "metadata": {},
   "outputs": [
    {
     "data": {
      "text/plain": [
       "Text(0, 0.5, 'Total Due ')"
      ]
     },
     "execution_count": 8,
     "metadata": {},
     "output_type": "execute_result"
    },
    {
     "data": {
      "image/png": "[encoded data removed]",
      "text/plain": [
       "<Figure size 432x288 with 1 Axes>"
      ]
     },
     "metadata": {
      "needs_background": "light"
     },
     "output_type": "display_data"
    }
   ],
   "source": [
    "#How much is the TOTAL Due Of each zip code of the BETHESDA City?\n",
    "plot_data=data[data['CITY']=='BETHESDA']\n",
    "plot_data=plot_data.groupby('ZIP CODE')['DUE'].sum()\n",
    "plot_data.plot(kind='bar')\n",
    "plt.title(\"Total Due of each zip code\")\n",
    "plt.ylabel(\"Total Due \")"
   ]
  },
  {
   "cell_type": "code",
   "execution_count": 9,
   "id": "89e5b43a-f0ab-44ad-bbcf-5ae4c04e976e",
   "metadata": {},
   "outputs": [
    {
     "data": {
      "text/plain": [
       "Text(0, 0.5, 'Total Credit ')"
      ]
     },
     "execution_count": 9,
     "metadata": {},
     "output_type": "execute_result"
    },
    {
     "data": {
      "image/png": "[encoded data removed]",
      "text/plain": [
       "<Figure size 432x288 with 1 Axes>"
      ]
     },
     "metadata": {
      "needs_background": "light"
     },
     "output_type": "display_data"
    }
   ],
   "source": [
    "#How much is the TOTAL credit Of each zip code of the BETHESDA City?\n",
    "plot_data=data[data['CITY']=='BETHESDA']\n",
    "plot_data=plot_data.groupby('ZIP CODE')['CREDITS'].sum()\n",
    "plot_data.plot(kind='hist',bins=100)\n",
    "plt.title(\"Total Credit of each zip code\")\n",
    "plt.ylabel(\"Total Credit \")"
   ]
  },
  {
   "cell_type": "code",
   "execution_count": 10,
   "id": "ad69bc35-c643-40d9-a60b-70eec29dabc9",
   "metadata": {},
   "outputs": [
    {
     "data": {
      "text/plain": [
       "Text(0, 0.5, 'Total Credit ')"
      ]
     },
     "execution_count": 10,
     "metadata": {},
     "output_type": "execute_result"
    },
    {
     "data": {
      "image/png": "[encoded data removed]",
      "text/plain": [
       "<Figure size 432x288 with 1 Axes>"
      ]
     },
     "metadata": {
      "needs_background": "light"
     },
     "output_type": "display_data"
    }
   ],
   "source": [
    "#How much is the TOTAL credit Of each zip code of the BETHESDA City?\n",
    "plot_data=data[data['CITY']=='BETHESDA']\n",
    "plot_data=plot_data.groupby('ZIP CODE')['CREDITS'].sum()\n",
    "plot_data.plot(kind='bar')\n",
    "plt.title(\"Total Credit of each zip code\")\n",
    "plt.ylabel(\"Total Credit \")"
   ]
  },
  {
   "cell_type": "code",
   "execution_count": null,
   "id": "5a6e60d1-343f-4b08-b5d2-066d7de38c29",
   "metadata": {},
   "outputs": [],
   "source": [
    "\n",
    "#I ran The below script to connect to MyPHPAdmin database\n",
    "%matplotlib inline\n",
    "import matplotlib.pyplot as plt\n",
    "import numpy as np\n",
    "import pandas as pd\n",
    "from os import path\n",
    "import requests\n",
    "import time\n",
    "import mysql.connector\n",
    "from pathlib import Path\n",
    "from datetime import datetime\n",
    "\n",
    "mydb=mysql.connector.connect(\n",
    "    host=\"localhost\",\n",
    "    user=\"taxoffice\",\n",
    "    password=\"7vGnSPoxPK4PbhLx\",\n",
    "    database=\"TaxOffice\"\n",
    "\n",
    ")\n"
   ]
  }
 ],
 "metadata": {
  "kernelspec": {
   "display_name": "Python 3",
   "language": "python",
   "name": "python3"
  },
  "language_info": {
   "codemirror_mode": {
    "name": "ipython",
    "version": 3
   },
   "file_extension": ".py",
   "mimetype": "text/x-python",
   "name": "python",
   "nbconvert_exporter": "python",
   "pygments_lexer": "ipython3",
   "version": "3.8.5"
  }
 },
 "nbformat": 4,
 "nbformat_minor": 5
}
