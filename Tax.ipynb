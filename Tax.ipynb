{
 "cells": [
  {
   "cell_type": "code",
   "execution_count": 1,
   "id": "a14c6e68-4e68-45f3-8113-902aba49a5b0",
   "metadata": {},
   "outputs": [
    {
     "ename": "SyntaxError",
     "evalue": "(unicode error) 'unicodeescape' codec can't decode bytes in position 8-9: truncated \\UXXXXXXXX escape (<ipython-input-1-4a532bb8401d>, line 2)",
     "output_type": "error",
     "traceback": [
      "\u001b[1;36m  File \u001b[1;32m\"<ipython-input-1-4a532bb8401d>\"\u001b[1;36m, line \u001b[1;32m2\u001b[0m\n\u001b[1;33m    Taxdata = pd.read_csv('../../C:\\Users\\LG\\Desktop\\SUMMER1\\Real_Property_Tax_-_2020-Load-Test2.csv')\u001b[0m\n\u001b[1;37m                          ^\u001b[0m\n\u001b[1;31mSyntaxError\u001b[0m\u001b[1;31m:\u001b[0m (unicode error) 'unicodeescape' codec can't decode bytes in position 8-9: truncated \\UXXXXXXXX escape\n"
     ]
    }
   ],
   "source": [
    "import pandas as pd\n",
    "Taxdata = pd.read_csv('C:\\Users\\LG\\Desktop\\SUMMER1\\Real_Property_Tax_-_2020-Load-Test2.csv')\n",
    "print(data)"
   ]
  },
  {
   "cell_type": "code",
   "execution_count": 2,
   "id": "a59dd956-938d-4faa-a8f5-579be289723c",
   "metadata": {},
   "outputs": [
    {
     "ename": "SyntaxError",
     "evalue": "(unicode error) 'unicodeescape' codec can't decode bytes in position 2-3: truncated \\UXXXXXXXX escape (<ipython-input-2-72dc120dab25>, line 2)",
     "output_type": "error",
     "traceback": [
      "\u001b[1;36m  File \u001b[1;32m\"<ipython-input-2-72dc120dab25>\"\u001b[1;36m, line \u001b[1;32m2\u001b[0m\n\u001b[1;33m    Taxdata = pd.read_csv('C:\\Users\\LG\\Desktop\\SUMMER1\\Real_Property_Tax_-_2020-Load-Test2.csv')\u001b[0m\n\u001b[1;37m                          ^\u001b[0m\n\u001b[1;31mSyntaxError\u001b[0m\u001b[1;31m:\u001b[0m (unicode error) 'unicodeescape' codec can't decode bytes in position 2-3: truncated \\UXXXXXXXX escape\n"
     ]
    }
   ],
   "source": [
    "import pandas as pdC:\\Users\\LG\\Desktop\\SUMMER1\\Real_Property_Tax_-_2020-Load-Test2.csv')\n",
    "print(data)\n",
    "Taxdata = pd.read_csv('"
   ]
  },
  {
   "cell_type": "code",
   "execution_count": 3,
   "id": "e3d916f9-869b-4676-8450-a82d2b3e4ff7",
   "metadata": {},
   "outputs": [
    {
     "ename": "ModuleNotFoundError",
     "evalue": "No module named 'numpy'",
     "output_type": "error",
     "traceback": [
      "\u001b[1;31m---------------------------------------------------------------------------\u001b[0m",
      "\u001b[1;31mModuleNotFoundError\u001b[0m                       Traceback (most recent call last)",
      "\u001b[1;32m<ipython-input-3-f29ff4a0d553>\u001b[0m in \u001b[0;36m<module>\u001b[1;34m\u001b[0m\n\u001b[1;32m----> 1\u001b[1;33m \u001b[1;32mimport\u001b[0m \u001b[0mnumpy\u001b[0m \u001b[1;32mas\u001b[0m \u001b[0mnp\u001b[0m\u001b[1;33m\u001b[0m\u001b[1;33m\u001b[0m\u001b[0m\n\u001b[0m\u001b[0;32m      2\u001b[0m \u001b[1;32mimport\u001b[0m \u001b[0mnumpy\u001b[0m \u001b[1;32mas\u001b[0m \u001b[0mnp\u001b[0m\u001b[1;33m\u001b[0m\u001b[1;33m\u001b[0m\u001b[0m\n\u001b[0;32m      3\u001b[0m \u001b[0mfilename\u001b[0m \u001b[1;33m=\u001b[0m \u001b[1;34m'C:\\\\Users\\\\LG\\\\Desktop\\SUMMER1\\\\Real_Property_Tax_-_2020-Load-Test2.csv'\u001b[0m\u001b[1;33m\u001b[0m\u001b[1;33m\u001b[0m\u001b[0m\n\u001b[0;32m      4\u001b[0m \u001b[0mpd\u001b[0m\u001b[1;33m.\u001b[0m\u001b[0mread_csv\u001b[0m\u001b[1;33m(\u001b[0m\u001b[0mfilename\u001b[0m\u001b[1;33m)\u001b[0m\u001b[1;33m\u001b[0m\u001b[1;33m\u001b[0m\u001b[0m\n",
      "\u001b[1;31mModuleNotFoundError\u001b[0m: No module named 'numpy'"
     ]
    }
   ],
   "source": [
    "import numpy as np\n",
    "import numpy as np\n",
    "filename = 'C:\\\\Users\\\\LG\\\\Desktop\\SUMMER1\\\\Real_Property_Tax_-_2020-Load-Test2.csv'\n",
    "pd.read_csv(filename)"
   ]
  },
  {
   "cell_type": "code",
   "execution_count": 4,
   "id": "ef657fbb-8dc9-422b-ba1a-0fb00d75a006",
   "metadata": {},
   "outputs": [
    {
     "name": "stdout",
     "output_type": "stream",
     "text": [
      "Collecting numpy\n",
      "  Downloading numpy-1.21.0-cp38-cp38-win32.whl (11.7 MB)\n",
      "Installing collected packages: numpy\n",
      "Successfully installed numpy-1.21.0\n",
      "Note: you may need to restart the kernel to use updated packages.\n"
     ]
    },
    {
     "name": "stderr",
     "output_type": "stream",
     "text": [
      "WARNING: You are using pip version 21.1.2; however, version 21.1.3 is available.\n",
      "You should consider upgrading via the 'c:\\users\\lg\\desktop\\summer1\\final\\myenv\\scripts\\python.exe -m pip install --upgrade pip' command.\n"
     ]
    }
   ],
   "source": [
    "pip install numpy\n"
   ]
  },
  {
   "cell_type": "code",
   "execution_count": 5,
   "id": "5d2e433c-766c-47c9-89e8-19f0637e4b1d",
   "metadata": {},
   "outputs": [
    {
     "ename": "SyntaxError",
     "evalue": "invalid syntax (<ipython-input-5-0a8cf7b99133>, line 1)",
     "output_type": "error",
     "traceback": [
      "\u001b[1;36m  File \u001b[1;32m\"<ipython-input-5-0a8cf7b99133>\"\u001b[1;36m, line \u001b[1;32m1\u001b[0m\n\u001b[1;33m    python -m pip install --upgrade pip\u001b[0m\n\u001b[1;37m              ^\u001b[0m\n\u001b[1;31mSyntaxError\u001b[0m\u001b[1;31m:\u001b[0m invalid syntax\n"
     ]
    }
   ],
   "source": [
    "python -m pip install --upgrade pip"
   ]
  },
  {
   "cell_type": "code",
   "execution_count": 6,
   "id": "4338a39f-e98b-4122-bc94-6ec8ba6037e3",
   "metadata": {},
   "outputs": [
    {
     "name": "stdout",
     "output_type": "stream",
     "text": [
      "Requirement already satisfied: pip in c:\\users\\lg\\desktop\\summer1\\final\\myenv\\lib\\site-packages (21.1.2)\n",
      "Collecting pip\n",
      "  Using cached pip-21.1.3-py3-none-any.whl (1.5 MB)\n",
      "Installing collected packages: pip\n",
      "  Attempting uninstall: pip\n",
      "    Found existing installation: pip 21.1.2\n",
      "    Uninstalling pip-21.1.2:\n",
      "      Successfully uninstalled pip-21.1.2\n",
      "Successfully installed pip-21.1.3\n",
      "Note: you may need to restart the kernel to use updated packages.\n"
     ]
    }
   ],
   "source": [
    "pip install --upgrade pip"
   ]
  },
  {
   "cell_type": "code",
   "execution_count": 7,
   "id": "b92f46cb-dab0-4d08-b042-5163fb75af1f",
   "metadata": {},
   "outputs": [
    {
     "ename": "SyntaxError",
     "evalue": "invalid syntax (<ipython-input-7-dcb656ca3f96>, line 1)",
     "output_type": "error",
     "traceback": [
      "\u001b[1;36m  File \u001b[1;32m\"<ipython-input-7-dcb656ca3f96>\"\u001b[1;36m, line \u001b[1;32m1\u001b[0m\n\u001b[1;33m    python -m pip install -r requirements.txt\u001b[0m\n\u001b[1;37m              ^\u001b[0m\n\u001b[1;31mSyntaxError\u001b[0m\u001b[1;31m:\u001b[0m invalid syntax\n"
     ]
    }
   ],
   "source": [
    "python -m pip install -r requirements.txt\n"
   ]
  },
  {
   "cell_type": "code",
   "execution_count": 8,
   "id": "d684d4ca-0cab-4c59-8c5c-5e73603a2109",
   "metadata": {},
   "outputs": [
    {
     "name": "stdout",
     "output_type": "stream",
     "text": [
      "Requirement already satisfied: certifi==2021.5.30 in c:\\users\\lg\\desktop\\summer1\\final\\myenv\\lib\\site-packages (from -r requirements.txt (line 1)) (2021.5.30)\n",
      "Requirement already satisfied: chardet==4.0.0 in c:\\users\\lg\\desktop\\summer1\\final\\myenv\\lib\\site-packages (from -r requirements.txt (line 2)) (4.0.0)\n",
      "Requirement already satisfied: idna==2.10 in c:\\users\\lg\\desktop\\summer1\\final\\myenv\\lib\\site-packages (from -r requirements.txt (line 3)) (2.10)\n",
      "Requirement already satisfied: requests==2.25.1 in c:\\users\\lg\\desktop\\summer1\\final\\myenv\\lib\\site-packages (from -r requirements.txt (line 4)) (2.25.1)\n",
      "Requirement already satisfied: urllib3==1.26.6 in c:\\users\\lg\\desktop\\summer1\\final\\myenv\\lib\\site-packages (from -r requirements.txt (line 5)) (1.26.6)\n",
      "Collecting graphviz==0.14.1\n",
      "  Using cached graphviz-0.14.1-py2.py3-none-any.whl (18 kB)\n",
      "Collecting imbalanced-learn==0.7.0\n",
      "  Using cached imbalanced_learn-0.7.0-py3-none-any.whl (167 kB)\n",
      "Collecting ipympl==0.6.2\n",
      "  Using cached ipympl-0.6.2-py2.py3-none-any.whl (105 kB)\n",
      "Collecting jupyterlab==3.0.4\n",
      "  Using cached jupyterlab-3.0.4-py3-none-any.whl (8.3 MB)\n",
      "Collecting matplotlib==3.3.2\n",
      "  Using cached matplotlib-3.3.2-cp38-cp38-win32.whl (8.3 MB)\n",
      "Collecting numpy==1.19.2\n",
      "  Using cached numpy-1.19.2-cp38-cp38-win32.whl (10.9 MB)\n",
      "Collecting pandas\n",
      "  Downloading pandas-1.2.5-cp38-cp38-win32.whl (8.2 MB)\n",
      "\n",
      "The conflict is caused by:\n",
      "    The user requested requests==2.25.1\n",
      "    The user requested requests==2.24.0\n",
      "\n",
      "To fix this you could try to:\n",
      "1. loosen the range of package versions you've specified\n",
      "Note: you may need to restart the kernel to use updated packages.\n"
     ]
    },
    {
     "name": "stderr",
     "output_type": "stream",
     "text": [
      "ERROR: Cannot install requests==2.24.0 and requests==2.25.1 because these package versions have conflicting dependencies.\n",
      "ERROR: ResolutionImpossible: for help visit https://pip.pypa.io/en/latest/user_guide/#fixing-conflicting-dependencies\n"
     ]
    },
    {
     "name": "stdout",
     "output_type": "stream",
     "text": [
      "2. remove package versions to allow pip attempt to solve the dependency conflict\n",
      "\n"
     ]
    }
   ],
   "source": [
    "pip install -r requirements.txt"
   ]
  },
  {
   "cell_type": "code",
   "execution_count": 9,
   "id": "0a2cfc79-a697-4a22-8640-d16cb22b19b1",
   "metadata": {},
   "outputs": [
    {
     "name": "stdout",
     "output_type": "stream",
     "text": [
      "Requirement already satisfied: requests==2.25.1 in c:\\users\\lg\\desktop\\summer1\\final\\myenv\\lib\\site-packages (2.25.1)\n",
      "Requirement already satisfied: chardet<5,>=3.0.2 in c:\\users\\lg\\desktop\\summer1\\final\\myenv\\lib\\site-packages (from requests==2.25.1) (4.0.0)\n",
      "Requirement already satisfied: urllib3<1.27,>=1.21.1 in c:\\users\\lg\\desktop\\summer1\\final\\myenv\\lib\\site-packages (from requests==2.25.1) (1.26.6)\n",
      "Requirement already satisfied: certifi>=2017.4.17 in c:\\users\\lg\\desktop\\summer1\\final\\myenv\\lib\\site-packages (from requests==2.25.1) (2021.5.30)\n",
      "Requirement already satisfied: idna<3,>=2.5 in c:\\users\\lg\\desktop\\summer1\\final\\myenv\\lib\\site-packages (from requests==2.25.1) (2.10)\n",
      "Note: you may need to restart the kernel to use updated packages.\n"
     ]
    }
   ],
   "source": [
    "pip install requests==2.25.1\n"
   ]
  },
  {
   "cell_type": "code",
   "execution_count": 1,
   "id": "09200403-0ce7-4f12-9bc8-e981410b890e",
   "metadata": {},
   "outputs": [
    {
     "ename": "ModuleNotFoundError",
     "evalue": "No module named 'pandas'",
     "output_type": "error",
     "traceback": [
      "\u001b[1;31m---------------------------------------------------------------------------\u001b[0m",
      "\u001b[1;31mModuleNotFoundError\u001b[0m                       Traceback (most recent call last)",
      "\u001b[1;32m<ipython-input-1-e6a3fe14decf>\u001b[0m in \u001b[0;36m<module>\u001b[1;34m\u001b[0m\n\u001b[1;32m----> 1\u001b[1;33m \u001b[1;32mimport\u001b[0m \u001b[0mpandas\u001b[0m \u001b[1;32mas\u001b[0m \u001b[0mpd\u001b[0m\u001b[1;33m\u001b[0m\u001b[1;33m\u001b[0m\u001b[0m\n\u001b[0m\u001b[0;32m      2\u001b[0m \u001b[1;32mimport\u001b[0m \u001b[0mnumpy\u001b[0m \u001b[1;32mas\u001b[0m \u001b[0mnp\u001b[0m\u001b[1;33m\u001b[0m\u001b[1;33m\u001b[0m\u001b[0m\n\u001b[0;32m      3\u001b[0m \u001b[0mfilename\u001b[0m \u001b[1;33m=\u001b[0m \u001b[1;34m'C:\\\\Users\\\\LG\\\\Desktop\\SUMMER1\\\\Real_Property_Tax_-_2020-Load-Test2.csv'\u001b[0m\u001b[1;33m\u001b[0m\u001b[1;33m\u001b[0m\u001b[0m\n\u001b[0;32m      4\u001b[0m \u001b[0mpd\u001b[0m\u001b[1;33m.\u001b[0m\u001b[0mread_csv\u001b[0m\u001b[1;33m(\u001b[0m\u001b[0mfilename\u001b[0m\u001b[1;33m)\u001b[0m\u001b[1;33m\u001b[0m\u001b[1;33m\u001b[0m\u001b[0m\n",
      "\u001b[1;31mModuleNotFoundError\u001b[0m: No module named 'pandas'"
     ]
    }
   ],
   "source": [
    "import pandas as pd \n",
    "import numpy as np\n",
    "filename = 'C:\\\\Users\\\\LG\\\\Desktop\\SUMMER1\\\\Real_Property_Tax_-_2020-Load-Test2.csv'\n",
    "pd.read_csv(filename)"
   ]
  },
  {
   "cell_type": "code",
   "execution_count": 2,
   "id": "9b23874c-e0c2-40cd-a5b3-e03457cdb69f",
   "metadata": {},
   "outputs": [
    {
     "name": "stdout",
     "output_type": "stream",
     "text": [
      "Collecting pandas\n",
      "  Using cached pandas-1.2.5-cp38-cp38-win32.whl (8.2 MB)\n",
      "Requirement already satisfied: numpy>=1.16.5 in c:\\users\\lg\\desktop\\summer1\\final\\myenv\\lib\\site-packages (from pandas) (1.21.0)\n",
      "Requirement already satisfied: python-dateutil>=2.7.3 in c:\\users\\lg\\desktop\\summer1\\final\\myenv\\lib\\site-packages (from pandas) (2.8.1)\n",
      "Requirement already satisfied: pytz>=2017.3 in c:\\users\\lg\\desktop\\summer1\\final\\myenv\\lib\\site-packages (from pandas) (2021.1)\n",
      "Requirement already satisfied: six>=1.5 in c:\\users\\lg\\desktop\\summer1\\final\\myenv\\lib\\site-packages (from python-dateutil>=2.7.3->pandas) (1.16.0)\n",
      "Installing collected packages: pandas\n",
      "Successfully installed pandas-1.2.5\n",
      "Note: you may need to restart the kernel to use updated packages.\n"
     ]
    }
   ],
   "source": [
    "pip install pandas \n"
   ]
  },
  {
   "cell_type": "code",
   "execution_count": 3,
   "id": "e127c9c7-8224-4581-97d4-67fb3694902d",
   "metadata": {},
   "outputs": [
    {
     "data": {
      "text/html": [
       "<div>\n",
       "<style scoped>\n",
       "    .dataframe tbody tr th:only-of-type {\n",
       "        vertical-align: middle;\n",
       "    }\n",
       "\n",
       "    .dataframe tbody tr th {\n",
       "        vertical-align: top;\n",
       "    }\n",
       "\n",
       "    .dataframe thead th {\n",
       "        text-align: right;\n",
       "    }\n",
       "</style>\n",
       "<table border=\"1\" class=\"dataframe\">\n",
       "  <thead>\n",
       "    <tr style=\"text-align: right;\">\n",
       "      <th></th>\n",
       "      <th>45986</th>\n",
       "      <th>NOT A PRINCIPAL RESIDENCE</th>\n",
       "      <th>Unnamed: 2</th>\n",
       "      <th>0</th>\n",
       "      <th>0.1</th>\n",
       "      <th>0.2</th>\n",
       "      <th>0.3</th>\n",
       "      <th>0.4</th>\n",
       "      <th>0.5</th>\n",
       "      <th>0.6</th>\n",
       "    </tr>\n",
       "  </thead>\n",
       "  <tbody>\n",
       "    <tr>\n",
       "      <th>0</th>\n",
       "      <td>150491</td>\n",
       "      <td>NOT A PRINCIPAL RESIDENCE</td>\n",
       "      <td>NaN</td>\n",
       "      <td>0</td>\n",
       "      <td>0.00</td>\n",
       "      <td>0.00</td>\n",
       "      <td>0.00</td>\n",
       "      <td>0.00</td>\n",
       "      <td>0.00</td>\n",
       "      <td>0.00</td>\n",
       "    </tr>\n",
       "    <tr>\n",
       "      <th>1</th>\n",
       "      <td>1624601</td>\n",
       "      <td>NOT A PRINCIPAL RESIDENCE</td>\n",
       "      <td>NaN</td>\n",
       "      <td>0</td>\n",
       "      <td>0.00</td>\n",
       "      <td>0.00</td>\n",
       "      <td>0.00</td>\n",
       "      <td>0.00</td>\n",
       "      <td>0.00</td>\n",
       "      <td>0.00</td>\n",
       "    </tr>\n",
       "    <tr>\n",
       "      <th>2</th>\n",
       "      <td>308418</td>\n",
       "      <td>NOT A PRINCIPAL RESIDENCE</td>\n",
       "      <td>NaN</td>\n",
       "      <td>20100</td>\n",
       "      <td>199.23</td>\n",
       "      <td>0.00</td>\n",
       "      <td>22.51</td>\n",
       "      <td>221.74</td>\n",
       "      <td>199.23</td>\n",
       "      <td>22.51</td>\n",
       "    </tr>\n",
       "    <tr>\n",
       "      <th>3</th>\n",
       "      <td>311347</td>\n",
       "      <td>NOT A PRINCIPAL RESIDENCE</td>\n",
       "      <td>NaN</td>\n",
       "      <td>236900</td>\n",
       "      <td>2348.15</td>\n",
       "      <td>0.00</td>\n",
       "      <td>265.33</td>\n",
       "      <td>2613.48</td>\n",
       "      <td>0.00</td>\n",
       "      <td>2613.48</td>\n",
       "    </tr>\n",
       "    <tr>\n",
       "      <th>4</th>\n",
       "      <td>354778</td>\n",
       "      <td>NOT A PRINCIPAL RESIDENCE</td>\n",
       "      <td>NaN</td>\n",
       "      <td>0</td>\n",
       "      <td>0.00</td>\n",
       "      <td>0.00</td>\n",
       "      <td>0.00</td>\n",
       "      <td>0.00</td>\n",
       "      <td>0.00</td>\n",
       "      <td>0.00</td>\n",
       "    </tr>\n",
       "    <tr>\n",
       "      <th>...</th>\n",
       "      <td>...</td>\n",
       "      <td>...</td>\n",
       "      <td>...</td>\n",
       "      <td>...</td>\n",
       "      <td>...</td>\n",
       "      <td>...</td>\n",
       "      <td>...</td>\n",
       "      <td>...</td>\n",
       "      <td>...</td>\n",
       "      <td>...</td>\n",
       "    </tr>\n",
       "    <tr>\n",
       "      <th>1954</th>\n",
       "      <td>85891</td>\n",
       "      <td>PRINCIPAL RESIDENCE</td>\n",
       "      <td>ROCKVILLE</td>\n",
       "      <td>1017500</td>\n",
       "      <td>10085.47</td>\n",
       "      <td>339.32</td>\n",
       "      <td>1139.60</td>\n",
       "      <td>11725.79</td>\n",
       "      <td>692.00</td>\n",
       "      <td>11033.79</td>\n",
       "    </tr>\n",
       "    <tr>\n",
       "      <th>1955</th>\n",
       "      <td>57062</td>\n",
       "      <td>PRINCIPAL RESIDENCE</td>\n",
       "      <td>GARRETT PARK</td>\n",
       "      <td>534200</td>\n",
       "      <td>5294.98</td>\n",
       "      <td>361.19</td>\n",
       "      <td>598.30</td>\n",
       "      <td>7454.51</td>\n",
       "      <td>1612.60</td>\n",
       "      <td>5841.91</td>\n",
       "    </tr>\n",
       "    <tr>\n",
       "      <th>1956</th>\n",
       "      <td>92921</td>\n",
       "      <td>PRINCIPAL RESIDENCE</td>\n",
       "      <td>POTOMAC</td>\n",
       "      <td>632300</td>\n",
       "      <td>6267.35</td>\n",
       "      <td>329.86</td>\n",
       "      <td>708.18</td>\n",
       "      <td>7412.99</td>\n",
       "      <td>692.00</td>\n",
       "      <td>6720.99</td>\n",
       "    </tr>\n",
       "    <tr>\n",
       "      <th>1957</th>\n",
       "      <td>80637</td>\n",
       "      <td>NOT A PRINCIPAL RESIDENCE</td>\n",
       "      <td>NaN</td>\n",
       "      <td>100</td>\n",
       "      <td>0.99</td>\n",
       "      <td>0.00</td>\n",
       "      <td>0.11</td>\n",
       "      <td>195.33</td>\n",
       "      <td>0.00</td>\n",
       "      <td>195.33</td>\n",
       "    </tr>\n",
       "    <tr>\n",
       "      <th>1958</th>\n",
       "      <td>9762</td>\n",
       "      <td>PRINCIPAL RESIDENCE</td>\n",
       "      <td>WOODBINE</td>\n",
       "      <td>493700</td>\n",
       "      <td>4893.55</td>\n",
       "      <td>222.86</td>\n",
       "      <td>552.94</td>\n",
       "      <td>6052.15</td>\n",
       "      <td>692.00</td>\n",
       "      <td>5360.15</td>\n",
       "    </tr>\n",
       "  </tbody>\n",
       "</table>\n",
       "<p>1959 rows × 10 columns</p>\n",
       "</div>"
      ],
      "text/plain": [
       "        45986  NOT A PRINCIPAL RESIDENCE    Unnamed: 2        0       0.1  \\\n",
       "0      150491  NOT A PRINCIPAL RESIDENCE           NaN        0      0.00   \n",
       "1     1624601  NOT A PRINCIPAL RESIDENCE           NaN        0      0.00   \n",
       "2      308418  NOT A PRINCIPAL RESIDENCE           NaN    20100    199.23   \n",
       "3      311347  NOT A PRINCIPAL RESIDENCE           NaN   236900   2348.15   \n",
       "4      354778  NOT A PRINCIPAL RESIDENCE           NaN        0      0.00   \n",
       "...       ...                        ...           ...      ...       ...   \n",
       "1954    85891        PRINCIPAL RESIDENCE     ROCKVILLE  1017500  10085.47   \n",
       "1955    57062        PRINCIPAL RESIDENCE  GARRETT PARK   534200   5294.98   \n",
       "1956    92921        PRINCIPAL RESIDENCE       POTOMAC   632300   6267.35   \n",
       "1957    80637  NOT A PRINCIPAL RESIDENCE           NaN      100      0.99   \n",
       "1958     9762        PRINCIPAL RESIDENCE      WOODBINE   493700   4893.55   \n",
       "\n",
       "         0.2      0.3       0.4      0.5       0.6  \n",
       "0       0.00     0.00      0.00     0.00      0.00  \n",
       "1       0.00     0.00      0.00     0.00      0.00  \n",
       "2       0.00    22.51    221.74   199.23     22.51  \n",
       "3       0.00   265.33   2613.48     0.00   2613.48  \n",
       "4       0.00     0.00      0.00     0.00      0.00  \n",
       "...      ...      ...       ...      ...       ...  \n",
       "1954  339.32  1139.60  11725.79   692.00  11033.79  \n",
       "1955  361.19   598.30   7454.51  1612.60   5841.91  \n",
       "1956  329.86   708.18   7412.99   692.00   6720.99  \n",
       "1957    0.00     0.11    195.33     0.00    195.33  \n",
       "1958  222.86   552.94   6052.15   692.00   5360.15  \n",
       "\n",
       "[1959 rows x 10 columns]"
      ]
     },
     "execution_count": 3,
     "metadata": {},
     "output_type": "execute_result"
    }
   ],
   "source": [
    "import pandas as pd \n",
    "import numpy as np\n",
    "filename = 'C:\\\\Users\\\\LG\\\\Desktop\\SUMMER1\\\\Real_Property_Tax_-_2020-Load-Test2.csv'\n",
    "pd.read_csv(filename)"
   ]
  },
  {
   "cell_type": "code",
   "execution_count": 4,
   "id": "b635f735-caae-4305-91a0-df61ddc7fcbf",
   "metadata": {},
   "outputs": [
    {
     "ename": "ModuleNotFoundError",
     "evalue": "No module named 'matplotlib'",
     "output_type": "error",
     "traceback": [
      "\u001b[1;31m---------------------------------------------------------------------------\u001b[0m",
      "\u001b[1;31mModuleNotFoundError\u001b[0m                       Traceback (most recent call last)",
      "\u001b[1;32m<ipython-input-4-cdf5ae6fe2b2>\u001b[0m in \u001b[0;36m<module>\u001b[1;34m\u001b[0m\n\u001b[1;32m----> 1\u001b[1;33m \u001b[1;32mimport\u001b[0m \u001b[0mmatplotlib\u001b[0m\u001b[1;33m.\u001b[0m\u001b[0mpyplot\u001b[0m \u001b[1;32mas\u001b[0m \u001b[0mplt\u001b[0m\u001b[1;33m\u001b[0m\u001b[1;33m\u001b[0m\u001b[0m\n\u001b[0m\u001b[0;32m      2\u001b[0m \u001b[0mplt\u001b[0m\u001b[1;33m.\u001b[0m\u001b[0mplot\u001b[0m\u001b[1;33m(\u001b[0m\u001b[0mx\u001b[0m\u001b[1;33m,\u001b[0m\u001b[0my\u001b[0m\u001b[1;33m)\u001b[0m\u001b[1;33m\u001b[0m\u001b[1;33m\u001b[0m\u001b[0m\n\u001b[0;32m      3\u001b[0m \u001b[0mplt\u001b[0m\u001b[1;33m.\u001b[0m\u001b[0mshow\u001b[0m\u001b[1;33m(\u001b[0m\u001b[1;33m)\u001b[0m\u001b[1;33m\u001b[0m\u001b[1;33m\u001b[0m\u001b[0m\n",
      "\u001b[1;31mModuleNotFoundError\u001b[0m: No module named 'matplotlib'"
     ]
    }
   ],
   "source": [
    "import matplotlib.pyplot as plt\n",
    "plt.plot(x,y)\n",
    "plt.show()"
   ]
  },
  {
   "cell_type": "code",
   "execution_count": 5,
   "id": "abb8ebac-744f-40b6-8e9e-eab620e9fb84",
   "metadata": {},
   "outputs": [
    {
     "name": "stdout",
     "output_type": "stream",
     "text": [
      "Collecting matplotlibNote: you may need to restart the kernel to use updated packages.\n",
      "\n",
      "  Using cached matplotlib-3.4.2-cp38-cp38-win32.whl (7.0 MB)\n",
      "Collecting pillow>=6.2.0\n",
      "  Using cached Pillow-8.2.0-cp38-cp38-win32.whl (1.9 MB)\n",
      "Requirement already satisfied: numpy>=1.16 in c:\\users\\lg\\desktop\\summer1\\final\\myenv\\lib\\site-packages (from matplotlib) (1.21.0)\n",
      "Requirement already satisfied: python-dateutil>=2.7 in c:\\users\\lg\\desktop\\summer1\\final\\myenv\\lib\\site-packages (from matplotlib) (2.8.1)\n",
      "Requirement already satisfied: pyparsing>=2.2.1 in c:\\users\\lg\\desktop\\summer1\\final\\myenv\\lib\\site-packages (from matplotlib) (2.4.7)\n",
      "Collecting cycler>=0.10\n",
      "  Using cached cycler-0.10.0-py2.py3-none-any.whl (6.5 kB)\n",
      "Collecting kiwisolver>=1.0.1\n",
      "  Using cached kiwisolver-1.3.1-cp38-cp38-win32.whl (42 kB)\n",
      "Requirement already satisfied: six in c:\\users\\lg\\desktop\\summer1\\final\\myenv\\lib\\site-packages (from cycler>=0.10->matplotlib) (1.16.0)\n",
      "Installing collected packages: pillow, kiwisolver, cycler, matplotlib\n",
      "Successfully installed cycler-0.10.0 kiwisolver-1.3.1 matplotlib-3.4.2 pillow-8.2.0\n"
     ]
    }
   ],
   "source": [
    "pip install matplotlib\n"
   ]
  },
  {
   "cell_type": "code",
   "execution_count": 6,
   "id": "853c1cfd-a845-43ac-b2d2-2e31ada52601",
   "metadata": {},
   "outputs": [
    {
     "ename": "NameError",
     "evalue": "name 'x' is not defined",
     "output_type": "error",
     "traceback": [
      "\u001b[1;31m---------------------------------------------------------------------------\u001b[0m",
      "\u001b[1;31mNameError\u001b[0m                                 Traceback (most recent call last)",
      "\u001b[1;32m<ipython-input-6-cdf5ae6fe2b2>\u001b[0m in \u001b[0;36m<module>\u001b[1;34m\u001b[0m\n\u001b[0;32m      1\u001b[0m \u001b[1;32mimport\u001b[0m \u001b[0mmatplotlib\u001b[0m\u001b[1;33m.\u001b[0m\u001b[0mpyplot\u001b[0m \u001b[1;32mas\u001b[0m \u001b[0mplt\u001b[0m\u001b[1;33m\u001b[0m\u001b[1;33m\u001b[0m\u001b[0m\n\u001b[1;32m----> 2\u001b[1;33m \u001b[0mplt\u001b[0m\u001b[1;33m.\u001b[0m\u001b[0mplot\u001b[0m\u001b[1;33m(\u001b[0m\u001b[0mx\u001b[0m\u001b[1;33m,\u001b[0m\u001b[0my\u001b[0m\u001b[1;33m)\u001b[0m\u001b[1;33m\u001b[0m\u001b[1;33m\u001b[0m\u001b[0m\n\u001b[0m\u001b[0;32m      3\u001b[0m \u001b[0mplt\u001b[0m\u001b[1;33m.\u001b[0m\u001b[0mshow\u001b[0m\u001b[1;33m(\u001b[0m\u001b[1;33m)\u001b[0m\u001b[1;33m\u001b[0m\u001b[1;33m\u001b[0m\u001b[0m\n",
      "\u001b[1;31mNameError\u001b[0m: name 'x' is not defined"
     ]
    }
   ],
   "source": [
    "import matplotlib.pyplot as plt\n",
    "plt.plot(x,y)\n",
    "plt.show()"
   ]
  },
  {
   "cell_type": "code",
   "execution_count": 7,
   "id": "5e5ebb92-6904-4755-845a-cfcc38bedf4e",
   "metadata": {},
   "outputs": [
    {
     "data": {
      "text/html": [
       "<div>\n",
       "<style scoped>\n",
       "    .dataframe tbody tr th:only-of-type {\n",
       "        vertical-align: middle;\n",
       "    }\n",
       "\n",
       "    .dataframe tbody tr th {\n",
       "        vertical-align: top;\n",
       "    }\n",
       "\n",
       "    .dataframe thead th {\n",
       "        text-align: right;\n",
       "    }\n",
       "</style>\n",
       "<table border=\"1\" class=\"dataframe\">\n",
       "  <thead>\n",
       "    <tr style=\"text-align: right;\">\n",
       "      <th></th>\n",
       "      <th>PARCEL CODE</th>\n",
       "      <th>RESIDENCE</th>\n",
       "      <th>CITY</th>\n",
       "      <th>ZIP CODE</th>\n",
       "      <th>Value</th>\n",
       "      <th>COUNTY PROPERTY TAX-Due</th>\n",
       "      <th>SOLID WASTE CHARGE</th>\n",
       "      <th>STATE PROPERTY TAX</th>\n",
       "      <th>TOTAL</th>\n",
       "      <th>TOTAL CREDITS</th>\n",
       "      <th>TOTAL-DUE</th>\n",
       "    </tr>\n",
       "  </thead>\n",
       "  <tbody>\n",
       "    <tr>\n",
       "      <th>0</th>\n",
       "      <td>45986</td>\n",
       "      <td>NOT A PRINCIPAL RESIDENCE</td>\n",
       "      <td>NaN</td>\n",
       "      <td>NaN</td>\n",
       "      <td>0</td>\n",
       "      <td>0.00</td>\n",
       "      <td>0.00</td>\n",
       "      <td>0.00</td>\n",
       "      <td>0.00</td>\n",
       "      <td>0.00</td>\n",
       "      <td>0.00</td>\n",
       "    </tr>\n",
       "    <tr>\n",
       "      <th>1</th>\n",
       "      <td>150491</td>\n",
       "      <td>NOT A PRINCIPAL RESIDENCE</td>\n",
       "      <td>NaN</td>\n",
       "      <td>NaN</td>\n",
       "      <td>0</td>\n",
       "      <td>0.00</td>\n",
       "      <td>0.00</td>\n",
       "      <td>0.00</td>\n",
       "      <td>0.00</td>\n",
       "      <td>0.00</td>\n",
       "      <td>0.00</td>\n",
       "    </tr>\n",
       "    <tr>\n",
       "      <th>2</th>\n",
       "      <td>1624601</td>\n",
       "      <td>NOT A PRINCIPAL RESIDENCE</td>\n",
       "      <td>NaN</td>\n",
       "      <td>NaN</td>\n",
       "      <td>0</td>\n",
       "      <td>0.00</td>\n",
       "      <td>0.00</td>\n",
       "      <td>0.00</td>\n",
       "      <td>0.00</td>\n",
       "      <td>0.00</td>\n",
       "      <td>0.00</td>\n",
       "    </tr>\n",
       "    <tr>\n",
       "      <th>3</th>\n",
       "      <td>308418</td>\n",
       "      <td>NOT A PRINCIPAL RESIDENCE</td>\n",
       "      <td>NaN</td>\n",
       "      <td>NaN</td>\n",
       "      <td>20100</td>\n",
       "      <td>199.23</td>\n",
       "      <td>0.00</td>\n",
       "      <td>22.51</td>\n",
       "      <td>221.74</td>\n",
       "      <td>199.23</td>\n",
       "      <td>22.51</td>\n",
       "    </tr>\n",
       "    <tr>\n",
       "      <th>4</th>\n",
       "      <td>311347</td>\n",
       "      <td>NOT A PRINCIPAL RESIDENCE</td>\n",
       "      <td>NaN</td>\n",
       "      <td>NaN</td>\n",
       "      <td>236900</td>\n",
       "      <td>2348.15</td>\n",
       "      <td>0.00</td>\n",
       "      <td>265.33</td>\n",
       "      <td>2613.48</td>\n",
       "      <td>0.00</td>\n",
       "      <td>2613.48</td>\n",
       "    </tr>\n",
       "    <tr>\n",
       "      <th>...</th>\n",
       "      <td>...</td>\n",
       "      <td>...</td>\n",
       "      <td>...</td>\n",
       "      <td>...</td>\n",
       "      <td>...</td>\n",
       "      <td>...</td>\n",
       "      <td>...</td>\n",
       "      <td>...</td>\n",
       "      <td>...</td>\n",
       "      <td>...</td>\n",
       "      <td>...</td>\n",
       "    </tr>\n",
       "    <tr>\n",
       "      <th>343908</th>\n",
       "      <td>3811057</td>\n",
       "      <td>PRINCIPAL RESIDENCE</td>\n",
       "      <td>BETHESDA</td>\n",
       "      <td>20814.0</td>\n",
       "      <td>40000</td>\n",
       "      <td>401.28</td>\n",
       "      <td>0.00</td>\n",
       "      <td>44.80</td>\n",
       "      <td>448.87</td>\n",
       "      <td>0.00</td>\n",
       "      <td>448.87</td>\n",
       "    </tr>\n",
       "    <tr>\n",
       "      <th>343909</th>\n",
       "      <td>3815580</td>\n",
       "      <td>NOT A PRINCIPAL RESIDENCE</td>\n",
       "      <td>SILVER SPRING</td>\n",
       "      <td>20910.0</td>\n",
       "      <td>5363000</td>\n",
       "      <td>54445.18</td>\n",
       "      <td>0.00</td>\n",
       "      <td>6006.56</td>\n",
       "      <td>60994.89</td>\n",
       "      <td>0.00</td>\n",
       "      <td>60994.89</td>\n",
       "    </tr>\n",
       "    <tr>\n",
       "      <th>343910</th>\n",
       "      <td>3835645</td>\n",
       "      <td>NOT A PRINCIPAL RESIDENCE</td>\n",
       "      <td>NaN</td>\n",
       "      <td>NaN</td>\n",
       "      <td>0</td>\n",
       "      <td>0.00</td>\n",
       "      <td>0.00</td>\n",
       "      <td>0.00</td>\n",
       "      <td>0.00</td>\n",
       "      <td>0.00</td>\n",
       "      <td>0.00</td>\n",
       "    </tr>\n",
       "    <tr>\n",
       "      <th>343911</th>\n",
       "      <td>3806530</td>\n",
       "      <td>NOT A PRINCIPAL RESIDENCE</td>\n",
       "      <td>SILVER SPRING</td>\n",
       "      <td>20910.0</td>\n",
       "      <td>0</td>\n",
       "      <td>0.00</td>\n",
       "      <td>16.25</td>\n",
       "      <td>0.00</td>\n",
       "      <td>21.15</td>\n",
       "      <td>0.00</td>\n",
       "      <td>21.15</td>\n",
       "    </tr>\n",
       "    <tr>\n",
       "      <th>343912</th>\n",
       "      <td>3826388</td>\n",
       "      <td>NOT A PRINCIPAL RESIDENCE</td>\n",
       "      <td>NaN</td>\n",
       "      <td>NaN</td>\n",
       "      <td>151200</td>\n",
       "      <td>1342.05</td>\n",
       "      <td>0.00</td>\n",
       "      <td>169.34</td>\n",
       "      <td>1952.89</td>\n",
       "      <td>0.00</td>\n",
       "      <td>1952.89</td>\n",
       "    </tr>\n",
       "  </tbody>\n",
       "</table>\n",
       "<p>343913 rows × 11 columns</p>\n",
       "</div>"
      ],
      "text/plain": [
       "        PARCEL CODE                  RESIDENCE           CITY  ZIP CODE  \\\n",
       "0             45986  NOT A PRINCIPAL RESIDENCE            NaN       NaN   \n",
       "1            150491  NOT A PRINCIPAL RESIDENCE            NaN       NaN   \n",
       "2           1624601  NOT A PRINCIPAL RESIDENCE            NaN       NaN   \n",
       "3            308418  NOT A PRINCIPAL RESIDENCE            NaN       NaN   \n",
       "4            311347  NOT A PRINCIPAL RESIDENCE            NaN       NaN   \n",
       "...             ...                        ...            ...       ...   \n",
       "343908      3811057        PRINCIPAL RESIDENCE       BETHESDA   20814.0   \n",
       "343909      3815580  NOT A PRINCIPAL RESIDENCE  SILVER SPRING   20910.0   \n",
       "343910      3835645  NOT A PRINCIPAL RESIDENCE            NaN       NaN   \n",
       "343911      3806530  NOT A PRINCIPAL RESIDENCE  SILVER SPRING   20910.0   \n",
       "343912      3826388  NOT A PRINCIPAL RESIDENCE            NaN       NaN   \n",
       "\n",
       "          Value  COUNTY PROPERTY TAX-Due  SOLID WASTE CHARGE  \\\n",
       "0             0                     0.00                0.00   \n",
       "1             0                     0.00                0.00   \n",
       "2             0                     0.00                0.00   \n",
       "3         20100                   199.23                0.00   \n",
       "4        236900                  2348.15                0.00   \n",
       "...         ...                      ...                 ...   \n",
       "343908    40000                   401.28                0.00   \n",
       "343909  5363000                 54445.18                0.00   \n",
       "343910        0                     0.00                0.00   \n",
       "343911        0                     0.00               16.25   \n",
       "343912   151200                  1342.05                0.00   \n",
       "\n",
       "        STATE PROPERTY TAX     TOTAL  TOTAL CREDITS   TOTAL-DUE  \n",
       "0                     0.00      0.00           0.00        0.00  \n",
       "1                     0.00      0.00           0.00        0.00  \n",
       "2                     0.00      0.00           0.00        0.00  \n",
       "3                    22.51    221.74         199.23       22.51  \n",
       "4                   265.33   2613.48           0.00     2613.48  \n",
       "...                    ...       ...            ...         ...  \n",
       "343908               44.80    448.87           0.00      448.87  \n",
       "343909             6006.56  60994.89           0.00    60994.89  \n",
       "343910                0.00      0.00           0.00        0.00  \n",
       "343911                0.00     21.15           0.00       21.15  \n",
       "343912              169.34   1952.89           0.00     1952.89  \n",
       "\n",
       "[343913 rows x 11 columns]"
      ]
     },
     "execution_count": 7,
     "metadata": {},
     "output_type": "execute_result"
    }
   ],
   "source": [
    "import pandas as pd \n",
    "import numpy as np\n",
    "filename = 'C:\\\\Users\\\\LG\\\\Desktop\\SUMMER1\\\\Real_Property_Tax_-_2020.csv'\n",
    "pd.read_csv(filename)"
   ]
  },
  {
   "cell_type": "code",
   "execution_count": 8,
   "id": "b38a706d-6b74-4a62-b88d-3063b036e1e1",
   "metadata": {},
   "outputs": [
    {
     "ename": "IndexError",
     "evalue": "index 1 is out of bounds for axis 1 with size 1",
     "output_type": "error",
     "traceback": [
      "\u001b[1;31m---------------------------------------------------------------------------\u001b[0m",
      "\u001b[1;31mIndexError\u001b[0m                                Traceback (most recent call last)",
      "\u001b[1;32m<timed exec>\u001b[0m in \u001b[0;36m<module>\u001b[1;34m\u001b[0m\n",
      "\u001b[1;31mIndexError\u001b[0m: index 1 is out of bounds for axis 1 with size 1"
     ]
    }
   ],
   "source": [
    "%%time\n",
    "import pandas as pd\n",
    "import numpy as np\n",
    "import matplotlib.pyplot as plt\n",
    "\n",
    "filename = 'C:\\\\Users\\\\LG\\\\Desktop\\SUMMER1\\\\Real_Property_Tax_-_2020.csv'\n",
    "data = pd.read_csv(filename, sep='\\t', header=None).values\n",
    "x = data[:,0]\n",
    "y = data[:,1]\n",
    "plt.plot(x,y)\n",
    "plt.show()\n",
    "\n",
    "x1 = data[100:150,0]\n",
    "y1 = data[100:200,1]\n",
    "yint = np.trapz(x1,y1)\n",
    "print(\"Integrated area under the curve from\",x[100],\"to\",x[200],\"=\", yint)\n",
    "plt.plot(x,y)\n",
    "plt.axvspan(x[100], x[200], color='red', alpha=0.5)\n",
    "plt.show()\n"
   ]
  },
  {
   "cell_type": "code",
   "execution_count": 9,
   "id": "1efc1f4f-6c00-436d-b515-c46e32b6e234",
   "metadata": {},
   "outputs": [
    {
     "ename": "IndexError",
     "evalue": "index 1 is out of bounds for axis 1 with size 1",
     "output_type": "error",
     "traceback": [
      "\u001b[1;31m---------------------------------------------------------------------------\u001b[0m",
      "\u001b[1;31mIndexError\u001b[0m                                Traceback (most recent call last)",
      "\u001b[1;32m<timed exec>\u001b[0m in \u001b[0;36m<module>\u001b[1;34m\u001b[0m\n",
      "\u001b[1;31mIndexError\u001b[0m: index 1 is out of bounds for axis 1 with size 1"
     ]
    }
   ],
   "source": [
    "%%time\n",
    "import pandas as pd\n",
    "import numpy as np\n",
    "import matplotlib.pyplot as plt\n",
    "\n",
    "filename = 'C:\\\\Users\\\\LG\\\\Desktop\\SUMMER1\\\\Real_Property_Tax_-_2020.csv'\n",
    "data = pd.read_csv(filename, sep='\\t', header=None).values\n",
    "x = data[:,0]\n",
    "y = data[:,1]\n",
    "plt.plot(x,y)\n",
    "plt.show()\n",
    "\n",
    "x1 = data[100:150,0]\n",
    "y1 = data[100:200,1]\n",
    "yint = np.trapz(x1,y1)\n",
    "print(\"Integrated area under the curve from\",x[100],\"to\",x[200],\"=\", yint)\n",
    "plt.plot(x,y)\n",
    "plt.axvspan(x[100], x[200], color='red', alpha=0.5)\n",
    "plt.show()"
   ]
  },
  {
   "cell_type": "code",
   "execution_count": 10,
   "id": "987b2413-6ac3-4e18-93c3-db129b053347",
   "metadata": {},
   "outputs": [
    {
     "ename": "AttributeError",
     "evalue": "'str' object has no attribute 'groupby'",
     "output_type": "error",
     "traceback": [
      "\u001b[1;31m---------------------------------------------------------------------------\u001b[0m",
      "\u001b[1;31mAttributeError\u001b[0m                            Traceback (most recent call last)",
      "\u001b[1;32m<ipython-input-10-da6dd0567371>\u001b[0m in \u001b[0;36m<module>\u001b[1;34m\u001b[0m\n\u001b[0;32m      1\u001b[0m \u001b[1;32mfrom\u001b[0m \u001b[0mmatplotlib\u001b[0m\u001b[1;33m.\u001b[0m\u001b[0mticker\u001b[0m \u001b[1;32mimport\u001b[0m \u001b[0mEngFormatter\u001b[0m\u001b[1;33m\u001b[0m\u001b[1;33m\u001b[0m\u001b[0m\n\u001b[0;32m      2\u001b[0m \u001b[1;33m\u001b[0m\u001b[0m\n\u001b[1;32m----> 3\u001b[1;33m \u001b[0mResidence\u001b[0m \u001b[1;33m=\u001b[0m \u001b[0mfilename\u001b[0m\u001b[1;33m.\u001b[0m\u001b[0mgroupby\u001b[0m\u001b[1;33m(\u001b[0m\u001b[0mpd\u001b[0m\u001b[1;33m.\u001b[0m\u001b[0mGrouper\u001b[0m\u001b[1;33m(\u001b[0m\u001b[0mfreq\u001b[0m\u001b[1;33m=\u001b[0m\u001b[1;34m'PARCEL CODE'\u001b[0m\u001b[1;33m)\u001b[0m\u001b[1;33m)\u001b[0m\u001b[1;33m.\u001b[0m\u001b[0msum\u001b[0m\u001b[1;33m(\u001b[0m\u001b[1;33m)\u001b[0m\u001b[1;33m.\u001b[0m\u001b[0mcases\u001b[0m\u001b[1;33m.\u001b[0m\u001b[0mcumsum\u001b[0m\u001b[1;33m(\u001b[0m\u001b[1;33m)\u001b[0m\u001b[1;33m\u001b[0m\u001b[1;33m\u001b[0m\u001b[0m\n\u001b[0m\u001b[0;32m      4\u001b[0m \u001b[1;33m\u001b[0m\u001b[0m\n\u001b[0;32m      5\u001b[0m \u001b[0max\u001b[0m \u001b[1;33m=\u001b[0m \u001b[0mcumulative_cases\u001b[0m\u001b[1;33m.\u001b[0m\u001b[0mplot\u001b[0m\u001b[1;33m(\u001b[0m\u001b[0mtitle\u001b[0m\u001b[1;33m=\u001b[0m\u001b[1;34m'Cumulative COVID-19 Cases Worldwide\\n(source: ECDC)'\u001b[0m\u001b[1;33m,\u001b[0m \u001b[0mfigsize\u001b[0m\u001b[1;33m=\u001b[0m\u001b[1;33m(\u001b[0m\u001b[1;36m10\u001b[0m\u001b[1;33m,\u001b[0m \u001b[1;36m4\u001b[0m\u001b[1;33m)\u001b[0m\u001b[1;33m)\u001b[0m\u001b[1;33m\u001b[0m\u001b[1;33m\u001b[0m\u001b[0m\n",
      "\u001b[1;31mAttributeError\u001b[0m: 'str' object has no attribute 'groupby'"
     ]
    }
   ],
   "source": [
    "from matplotlib.ticker import EngFormatter\n",
    "\n",
    "Residence = filename.groupby(pd.Grouper(freq='PARCEL CODE')).sum().cases.cumsum()\n",
    "\n",
    "ax = cumulative_cases.plot(title='Cumulative COVID-19 Cases Worldwide\\n(source: ECDC)', figsize=(10, 4))\n",
    "ax.set_ylabel('cumulative COVID-19 cases')\n",
    "ax.yaxis.set_major_formatter(EngFormatter())\n",
    "\n",
    "over_1M = cumulative_cases[cumulative_cases >= 1e6].index[0]\n",
    "ax.axvline(over_1M, linestyle='dashed', color='k', alpha=0.5, label=f\"Reached 1M on {over_1M.strftime('%Y-%m-%d')}\")\n",
    "\n",
    "ax.legend()"
   ]
  },
  {
   "cell_type": "code",
   "execution_count": 11,
   "id": "690e1c5e-57b3-437c-ad24-cefcafc81147",
   "metadata": {},
   "outputs": [
    {
     "data": {
      "text/html": [
       "<div>\n",
       "<style scoped>\n",
       "    .dataframe tbody tr th:only-of-type {\n",
       "        vertical-align: middle;\n",
       "    }\n",
       "\n",
       "    .dataframe tbody tr th {\n",
       "        vertical-align: top;\n",
       "    }\n",
       "\n",
       "    .dataframe thead th {\n",
       "        text-align: right;\n",
       "    }\n",
       "</style>\n",
       "<table border=\"1\" class=\"dataframe\">\n",
       "  <thead>\n",
       "    <tr style=\"text-align: right;\">\n",
       "      <th></th>\n",
       "      <th>ID</th>\n",
       "      <th>Month</th>\n",
       "      <th>Calendar Year</th>\n",
       "      <th>Income Tax Estimates &amp; Finals</th>\n",
       "      <th>Sales and Use</th>\n",
       "      <th>Business Use</th>\n",
       "      <th>Business Entity</th>\n",
       "      <th>Real Estate Conveyance</th>\n",
       "      <th>Petroleum Gross Earnings</th>\n",
       "      <th>Admissions &amp; Dues</th>\n",
       "      <th>Dry Cleaners</th>\n",
       "      <th>Tourism Surcharge</th>\n",
       "      <th>Hospitals</th>\n",
       "      <th>Gasoline</th>\n",
       "      <th>Total Revenue</th>\n",
       "    </tr>\n",
       "  </thead>\n",
       "  <tbody>\n",
       "    <tr>\n",
       "      <th>0</th>\n",
       "      <td>1</td>\n",
       "      <td>July</td>\n",
       "      <td>2011</td>\n",
       "      <td>NaN</td>\n",
       "      <td>NaN</td>\n",
       "      <td>NaN</td>\n",
       "      <td>381060.92</td>\n",
       "      <td>NaN</td>\n",
       "      <td>NaN</td>\n",
       "      <td>2673711.44</td>\n",
       "      <td>81002.98</td>\n",
       "      <td>297504.90</td>\n",
       "      <td>NaN</td>\n",
       "      <td>NaN</td>\n",
       "      <td>3.058430e+07</td>\n",
       "    </tr>\n",
       "    <tr>\n",
       "      <th>1</th>\n",
       "      <td>2</td>\n",
       "      <td>August</td>\n",
       "      <td>2011</td>\n",
       "      <td>2.320268e+07</td>\n",
       "      <td>266684123.3</td>\n",
       "      <td>927436.95</td>\n",
       "      <td>484492.78</td>\n",
       "      <td>8928562.46</td>\n",
       "      <td>597737.14</td>\n",
       "      <td>3187848.06</td>\n",
       "      <td>92488.98</td>\n",
       "      <td>626828.96</td>\n",
       "      <td>0.000000e+00</td>\n",
       "      <td>31362452.56</td>\n",
       "      <td>7.246003e+08</td>\n",
       "    </tr>\n",
       "    <tr>\n",
       "      <th>2</th>\n",
       "      <td>3</td>\n",
       "      <td>September</td>\n",
       "      <td>2011</td>\n",
       "      <td>2.748813e+08</td>\n",
       "      <td>289661741.7</td>\n",
       "      <td>2769766.79</td>\n",
       "      <td>824783.27</td>\n",
       "      <td>10074029.04</td>\n",
       "      <td>632106.40</td>\n",
       "      <td>2218147.94</td>\n",
       "      <td>6872.07</td>\n",
       "      <td>462709.00</td>\n",
       "      <td>0.000000e+00</td>\n",
       "      <td>31744734.83</td>\n",
       "      <td>1.203827e+09</td>\n",
       "    </tr>\n",
       "    <tr>\n",
       "      <th>3</th>\n",
       "      <td>4</td>\n",
       "      <td>October</td>\n",
       "      <td>2011</td>\n",
       "      <td>6.944227e+07</td>\n",
       "      <td>333566779.1</td>\n",
       "      <td>3798695.47</td>\n",
       "      <td>461952.67</td>\n",
       "      <td>9467368.80</td>\n",
       "      <td>97965756.90</td>\n",
       "      <td>1927275.34</td>\n",
       "      <td>95216.44</td>\n",
       "      <td>439563.14</td>\n",
       "      <td>8.424790e+07</td>\n",
       "      <td>30343374.73</td>\n",
       "      <td>1.266111e+09</td>\n",
       "    </tr>\n",
       "    <tr>\n",
       "      <th>4</th>\n",
       "      <td>5</td>\n",
       "      <td>November</td>\n",
       "      <td>2011</td>\n",
       "      <td>8.803835e+07</td>\n",
       "      <td>308212282.1</td>\n",
       "      <td>1837456.18</td>\n",
       "      <td>484246.81</td>\n",
       "      <td>8037987.89</td>\n",
       "      <td>813537.10</td>\n",
       "      <td>1979754.21</td>\n",
       "      <td>86382.09</td>\n",
       "      <td>429904.31</td>\n",
       "      <td>3.032664e+06</td>\n",
       "      <td>31255463.77</td>\n",
       "      <td>1.004029e+09</td>\n",
       "    </tr>\n",
       "    <tr>\n",
       "      <th>...</th>\n",
       "      <td>...</td>\n",
       "      <td>...</td>\n",
       "      <td>...</td>\n",
       "      <td>...</td>\n",
       "      <td>...</td>\n",
       "      <td>...</td>\n",
       "      <td>...</td>\n",
       "      <td>...</td>\n",
       "      <td>...</td>\n",
       "      <td>...</td>\n",
       "      <td>...</td>\n",
       "      <td>...</td>\n",
       "      <td>...</td>\n",
       "      <td>...</td>\n",
       "      <td>...</td>\n",
       "    </tr>\n",
       "    <tr>\n",
       "      <th>114</th>\n",
       "      <td>115</td>\n",
       "      <td>January</td>\n",
       "      <td>2021</td>\n",
       "      <td>5.240746e+08</td>\n",
       "      <td>364292477.5</td>\n",
       "      <td>NaN</td>\n",
       "      <td>NaN</td>\n",
       "      <td>27183580.90</td>\n",
       "      <td>18993402.56</td>\n",
       "      <td>NaN</td>\n",
       "      <td>58338.82</td>\n",
       "      <td>310187.78</td>\n",
       "      <td>1.847554e+08</td>\n",
       "      <td>27021695.11</td>\n",
       "      <td>2.176623e+09</td>\n",
       "    </tr>\n",
       "    <tr>\n",
       "      <th>115</th>\n",
       "      <td>116</td>\n",
       "      <td>February</td>\n",
       "      <td>2021</td>\n",
       "      <td>3.777888e+07</td>\n",
       "      <td>421099639.8</td>\n",
       "      <td>NaN</td>\n",
       "      <td>NaN</td>\n",
       "      <td>24192748.23</td>\n",
       "      <td>28541908.96</td>\n",
       "      <td>NaN</td>\n",
       "      <td>42373.04</td>\n",
       "      <td>284549.94</td>\n",
       "      <td>3.029327e+07</td>\n",
       "      <td>25986313.80</td>\n",
       "      <td>1.348489e+09</td>\n",
       "    </tr>\n",
       "    <tr>\n",
       "      <th>116</th>\n",
       "      <td>117</td>\n",
       "      <td>March</td>\n",
       "      <td>2021</td>\n",
       "      <td>8.047873e+07</td>\n",
       "      <td>469040020.2</td>\n",
       "      <td>NaN</td>\n",
       "      <td>NaN</td>\n",
       "      <td>20603894.24</td>\n",
       "      <td>157110.88</td>\n",
       "      <td>NaN</td>\n",
       "      <td>14374.38</td>\n",
       "      <td>255249.80</td>\n",
       "      <td>-2.421710e+03</td>\n",
       "      <td>23146994.26</td>\n",
       "      <td>2.110485e+09</td>\n",
       "    </tr>\n",
       "    <tr>\n",
       "      <th>117</th>\n",
       "      <td>118</td>\n",
       "      <td>April</td>\n",
       "      <td>2021</td>\n",
       "      <td>5.143920e+08</td>\n",
       "      <td>467528513.8</td>\n",
       "      <td>NaN</td>\n",
       "      <td>NaN</td>\n",
       "      <td>21765978.26</td>\n",
       "      <td>54462517.24</td>\n",
       "      <td>NaN</td>\n",
       "      <td>51418.67</td>\n",
       "      <td>351190.84</td>\n",
       "      <td>2.093505e+08</td>\n",
       "      <td>28341239.74</td>\n",
       "      <td>2.390339e+09</td>\n",
       "    </tr>\n",
       "    <tr>\n",
       "      <th>118</th>\n",
       "      <td>119</td>\n",
       "      <td>May</td>\n",
       "      <td>2021</td>\n",
       "      <td>1.011470e+09</td>\n",
       "      <td>324842809.5</td>\n",
       "      <td>NaN</td>\n",
       "      <td>NaN</td>\n",
       "      <td>28387786.39</td>\n",
       "      <td>1901887.53</td>\n",
       "      <td>NaN</td>\n",
       "      <td>14838.83</td>\n",
       "      <td>320073.18</td>\n",
       "      <td>0.000000e+00</td>\n",
       "      <td>28492405.38</td>\n",
       "      <td>2.154781e+09</td>\n",
       "    </tr>\n",
       "  </tbody>\n",
       "</table>\n",
       "<p>119 rows × 15 columns</p>\n",
       "</div>"
      ],
      "text/plain": [
       "      ID      Month  Calendar Year  Income Tax Estimates & Finals  \\\n",
       "0      1       July           2011                            NaN   \n",
       "1      2     August           2011                   2.320268e+07   \n",
       "2      3  September           2011                   2.748813e+08   \n",
       "3      4    October           2011                   6.944227e+07   \n",
       "4      5   November           2011                   8.803835e+07   \n",
       "..   ...        ...            ...                            ...   \n",
       "114  115    January           2021                   5.240746e+08   \n",
       "115  116   February           2021                   3.777888e+07   \n",
       "116  117      March           2021                   8.047873e+07   \n",
       "117  118      April           2021                   5.143920e+08   \n",
       "118  119        May           2021                   1.011470e+09   \n",
       "\n",
       "     Sales and Use  Business Use  Business Entity  Real Estate Conveyance  \\\n",
       "0              NaN           NaN        381060.92                     NaN   \n",
       "1      266684123.3     927436.95        484492.78              8928562.46   \n",
       "2      289661741.7    2769766.79        824783.27             10074029.04   \n",
       "3      333566779.1    3798695.47        461952.67              9467368.80   \n",
       "4      308212282.1    1837456.18        484246.81              8037987.89   \n",
       "..             ...           ...              ...                     ...   \n",
       "114    364292477.5           NaN              NaN             27183580.90   \n",
       "115    421099639.8           NaN              NaN             24192748.23   \n",
       "116    469040020.2           NaN              NaN             20603894.24   \n",
       "117    467528513.8           NaN              NaN             21765978.26   \n",
       "118    324842809.5           NaN              NaN             28387786.39   \n",
       "\n",
       "     Petroleum Gross Earnings    Admissions & Dues   Dry Cleaners   \\\n",
       "0                           NaN          2673711.44       81002.98   \n",
       "1                     597737.14          3187848.06       92488.98   \n",
       "2                     632106.40          2218147.94        6872.07   \n",
       "3                   97965756.90          1927275.34       95216.44   \n",
       "4                     813537.10          1979754.21       86382.09   \n",
       "..                          ...                 ...            ...   \n",
       "114                 18993402.56                 NaN       58338.82   \n",
       "115                 28541908.96                 NaN       42373.04   \n",
       "116                   157110.88                 NaN       14374.38   \n",
       "117                 54462517.24                 NaN       51418.67   \n",
       "118                  1901887.53                 NaN       14838.83   \n",
       "\n",
       "     Tourism Surcharge     Hospitals     Gasoline  Total Revenue  \n",
       "0            297504.90           NaN          NaN   3.058430e+07  \n",
       "1            626828.96  0.000000e+00  31362452.56   7.246003e+08  \n",
       "2            462709.00  0.000000e+00  31744734.83   1.203827e+09  \n",
       "3            439563.14  8.424790e+07  30343374.73   1.266111e+09  \n",
       "4            429904.31  3.032664e+06  31255463.77   1.004029e+09  \n",
       "..                 ...           ...          ...            ...  \n",
       "114          310187.78  1.847554e+08  27021695.11   2.176623e+09  \n",
       "115          284549.94  3.029327e+07  25986313.80   1.348489e+09  \n",
       "116          255249.80 -2.421710e+03  23146994.26   2.110485e+09  \n",
       "117          351190.84  2.093505e+08  28341239.74   2.390339e+09  \n",
       "118          320073.18  0.000000e+00  28492405.38   2.154781e+09  \n",
       "\n",
       "[119 rows x 15 columns]"
      ]
     },
     "execution_count": 11,
     "metadata": {},
     "output_type": "execute_result"
    }
   ],
   "source": [
    "import pandas as pd \n",
    "import numpy as np\n",
    "filename = 'C:\\\\Users\\\\LG\\\\Desktop\\SUMMER1\\\\Tax_Revenue_By_Month.csv'\n",
    "pd.read_csv(filename)"
   ]
  },
  {
   "cell_type": "code",
   "execution_count": 12,
   "id": "084e6500-a266-433b-8fb4-17f1f6ae7ca0",
   "metadata": {},
   "outputs": [
    {
     "name": "stdout",
     "output_type": "stream",
     "text": [
      "Using matplotlib backend: TkAgg\n"
     ]
    }
   ],
   "source": [
    "%matplotlib"
   ]
  },
  {
   "cell_type": "code",
   "execution_count": null,
   "id": "c10668c9-e879-45c6-a072-5dbb9fbe0775",
   "metadata": {},
   "outputs": [],
   "source": [
    " %matplotlib inline"
   ]
  },
  {
   "cell_type": "code",
   "execution_count": 13,
   "id": "5bd1a76c-7444-41ae-a0a7-337c34689de1",
   "metadata": {},
   "outputs": [
    {
     "ename": "NameError",
     "evalue": "name 'df' is not defined",
     "output_type": "error",
     "traceback": [
      "\u001b[1;31m---------------------------------------------------------------------------\u001b[0m",
      "\u001b[1;31mNameError\u001b[0m                                 Traceback (most recent call last)",
      "\u001b[1;32m<ipython-input-13-af40dff9efe4>\u001b[0m in \u001b[0;36m<module>\u001b[1;34m\u001b[0m\n\u001b[1;32m----> 1\u001b[1;33m \u001b[0mdf\u001b[0m\u001b[1;33m.\u001b[0m\u001b[0mplot\u001b[0m\u001b[1;33m(\u001b[0m\u001b[0mx\u001b[0m\u001b[1;33m=\u001b[0m\u001b[1;34m\"Month\"\u001b[0m\u001b[1;33m,\u001b[0m \u001b[0my\u001b[0m\u001b[1;33m=\u001b[0m\u001b[1;33m[\u001b[0m\u001b[1;34m\"Income Tax Estimates & Finals\"\u001b[0m\u001b[1;33m,\u001b[0m \u001b[1;34m\"Total Revenue\"\u001b[0m\u001b[1;33m,\u001b[0m \u001b[1;34m\"Sales and Use\"\u001b[0m\u001b[1;33m]\u001b[0m\u001b[1;33m)\u001b[0m\u001b[1;33m\u001b[0m\u001b[1;33m\u001b[0m\u001b[0m\n\u001b[0m",
      "\u001b[1;31mNameError\u001b[0m: name 'df' is not defined"
     ]
    }
   ],
   "source": [
    "df.plot(x=\"Month\", y=[\"Income Tax Estimates & Finals\", \"Total Revenue\", \"Sales and Use\"])"
   ]
  },
  {
   "cell_type": "code",
   "execution_count": null,
   "id": "f543e6c5-8d7d-46c0-9ee9-c83e199b2d90",
   "metadata": {},
   "outputs": [],
   "source": [
    "filename.plot(x=\"Month\", y=[\"Income Tax Estimates & Finals\", \"Total Revenue\", \"Sales and Use\"])"
   ]
  },
  {
   "cell_type": "code",
   "execution_count": null,
   "id": "62d23794-97c5-4275-bca8-c4a6ff218ad8",
   "metadata": {},
   "outputs": [],
   "source": [
    "import matplotlib.pyplot as plt\n",
    "df.plot(x=\"Month\", y=[\"Income Tax Estimates & Finals\", \"Total Revenue\", \"Sales and Use\"])\n",
    "plt.show()"
   ]
  },
  {
   "cell_type": "code",
   "execution_count": null,
   "id": "0973a907-56d6-478a-a539-16814f97ac79",
   "metadata": {},
   "outputs": [],
   "source": []
  },
  {
   "cell_type": "code",
   "execution_count": null,
   "id": "7bcb7c00-4afd-40e8-8efc-f9a78b794e59",
   "metadata": {},
   "outputs": [],
   "source": []
  },
  {
   "cell_type": "code",
   "execution_count": null,
   "id": "56b89ba5-bab2-4869-80b2-9c2aafdfe11d",
   "metadata": {},
   "outputs": [],
   "source": [
    "pip install matplotlib\n"
   ]
  },
  {
   "cell_type": "code",
   "execution_count": null,
   "id": "860f1c59-f223-4cab-a434-4a86889ca4f9",
   "metadata": {},
   "outputs": [],
   "source": []
  },
  {
   "cell_type": "code",
   "execution_count": null,
   "id": "8c5df6b9-e492-4561-8cbd-78ad354d9579",
   "metadata": {},
   "outputs": [],
   "source": [
    "import numpy as np\n",
    "import pandas as pd\n",
    "import matplotlib.pyplot as plt\n",
    "import seaborn as sns\n",
    "sns.set(style=\"darkgrid\")"
   ]
  },
  {
   "cell_type": "code",
   "execution_count": null,
   "id": "2ba55d60-27b9-42ab-98b8-26c018b7a6f6",
   "metadata": {},
   "outputs": [],
   "source": [
    "df.dtypes\n",
    "\n"
   ]
  },
  {
   "cell_type": "code",
   "execution_count": null,
   "id": "4048adac-bc5a-4d79-bad8-ced8f68e95ee",
   "metadata": {},
   "outputs": [],
   "source": [
    "import pandas as pd \n",
    "import numpy as np\n",
    "filename = 'C:\\\\Users\\\\LG\\\\Desktop\\SUMMER1\\\\Real_Property_Tax_-_2020.csv'\n",
    "pd.read_csv(filename)"
   ]
  },
  {
   "cell_type": "code",
   "execution_count": null,
   "id": "2994a293-a598-46e9-9299-541a7bc89219",
   "metadata": {},
   "outputs": [],
   "source": []
  },
  {
   "cell_type": "code",
   "execution_count": null,
   "id": "121f0930-b888-466d-8f86-3842cd953247",
   "metadata": {},
   "outputs": [],
   "source": [
    "import pandas as pd "
   ]
  },
  {
   "cell_type": "code",
   "execution_count": null,
   "id": "1ced5b4c-57a5-4e6a-8835-d5c77241cb26",
   "metadata": {},
   "outputs": [],
   "source": [
    "import numpy as np"
   ]
  },
  {
   "cell_type": "code",
   "execution_count": null,
   "id": "bf565a11-a25e-4dea-8fe2-eb77376b0d45",
   "metadata": {},
   "outputs": [],
   "source": [
    "filename = 'C:\\\\Users\\\\LG\\\\Desktop\\SUMMER1\\\\Real_Property_Tax_-_2020.csv'"
   ]
  }
 ],
 "metadata": {
  "kernelspec": {
   "display_name": "Python 3",
   "language": "python",
   "name": "python3"
  },
  "language_info": {
   "codemirror_mode": {
    "name": "ipython",
    "version": 3
   },
   "file_extension": ".py",
   "mimetype": "text/x-python",
   "name": "python",
   "nbconvert_exporter": "python",
   "pygments_lexer": "ipython3",
   "version": "3.8.5"
  }
 },
 "nbformat": 4,
 "nbformat_minor": 5
}
