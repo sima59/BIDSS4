{
 "cells": [
  {
   "cell_type": "code",
   "execution_count": null,
   "id": "2b1845e8-24c2-4d55-b241-26a5820ac2de",
   "metadata": {},
   "outputs": [],
   "source": [
    "%matplotlib inline\n",
    "import matplotlib.pyplot as plt\n",
    "import numpy as np\n",
    "import pandas as pd\n",
    "from os import path\n",
    "import requests\n",
    "import time\n",
    "import mysql.connector\n",
    "from pathlib import Path\n",
    "from datetime import datetime\n",
    "\n",
    "mydb=mysql.connector.connect(\n",
    "    host=\"localhost\",\n",
    "    user=\"taxoffice\",\n",
    "    password=\"7vGnSPoxPK4PbhLx\",\n",
    "    database=\"TaxOffice\"\n",
    "\n",
    ")\n",
    "mycursor=mydb.cutsor()\n",
    "\n",
    "print(mycursor)"
   ]
  },
  {
   "cell_type": "code",
   "execution_count": null,
   "id": "7f1c23b0-0985-4c5f-b592-1294ce9aa8f2",
   "metadata": {},
   "outputs": [],
   "source": [
    "%matplotlib inline\n",
    "import matplotlib.pyplot as plt\n",
    "import numpy as np\n",
    "import pandas as pd\n",
    "from os import path\n",
    "import requests\n",
    "import time\n",
    "import mysql.connector\n",
    "from pathlib import Path\n",
    "from datetime import datetime\n",
    "\n",
    "mydb=mysql.connector.connect(\n",
    "    host=\"localhost\",\n",
    "    user=\"taxoffice\",\n",
    "    password=\"7vGnSPoxPK4PbhLx\",\n",
    "    database=\"TaxOffice\"\n",
    "\n",
    ")\n",
    "mycursor=mydb.cutsor()\n",
    "\n",
    "print(mydb)"
   ]
  },
  {
   "cell_type": "code",
   "execution_count": null,
   "id": "b7b19872-0749-4613-a7c2-7e721e04e45f",
   "metadata": {},
   "outputs": [],
   "source": [
    "%matplotlib inline\n",
    "import matplotlib.pyplot as plt\n",
    "import numpy as np\n",
    "import pandas as pd\n",
    "from os import path\n",
    "import requests\n",
    "import time\n",
    "import mysql.connector\n",
    "from pathlib import Path\n",
    "from datetime import datetime\n",
    "fb = pd.read_csv('C:\\\\Users\\\\LG\\\\Desktop\\SUMMER1\\\\Tax_Revenue_By_Month.csv')"
   ]
  },
  {
   "cell_type": "code",
   "execution_count": null,
   "id": "03548bce-7eac-40a7-b367-730082ce32d5",
   "metadata": {},
   "outputs": [],
   "source": []
  },
  {
   "cell_type": "code",
   "execution_count": null,
   "id": "27cb01b0-2ffc-4adb-917c-845628cb6c5a",
   "metadata": {},
   "outputs": [],
   "source": [
    "%matplotlib inline\n",
    "import matplotlib.pyplot as plt\n",
    "import numpy as np\n",
    "import pandas as pd\n",
    "from os import path\n",
    "import requests\n",
    "import time\n",
    "import mysql.connector\n",
    "from pathlib import Path\n",
    "from datetime import datetime\n",
    "df = 'C:\\\\Users\\\\LG\\\\Desktop\\SUMMER1\\\\Tax_Revenue_By_Month.csv'\n",
    "pd.read_csv(df)"
   ]
  }
 ],
 "metadata": {
  "kernelspec": {
   "display_name": "Python 3",
   "language": "python",
   "name": "python3"
  },
  "language_info": {
   "codemirror_mode": {
    "name": "ipython",
    "version": 3
   },
   "file_extension": ".py",
   "mimetype": "text/x-python",
   "name": "python",
   "nbconvert_exporter": "python",
   "pygments_lexer": "ipython3",
   "version": "3.8.5"
  }
 },
 "nbformat": 4,
 "nbformat_minor": 5
}
